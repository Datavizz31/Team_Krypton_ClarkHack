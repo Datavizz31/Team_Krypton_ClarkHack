{
  "nbformat": 4,
  "nbformat_minor": 0,
  "metadata": {
    "colab": {
      "provenance": []
    },
    "kernelspec": {
      "name": "python3",
      "display_name": "Python 3"
    },
    "language_info": {
      "name": "python"
    }
  },
  "cells": [
    {
      "cell_type": "markdown",
      "source": [
        "Initially we converted datasets with relevant attributes from JSON to excel then we manually extracted the necessary attributes\n"
      ],
      "metadata": {
        "id": "vNsXMzLnrhgO"
      }
    },
    {
      "cell_type": "code",
      "execution_count": null,
      "metadata": {
        "id": "soFqieXRq-d2"
      },
      "outputs": [],
      "source": [
        "import pandas as pd\n",
        "from google.colab import files\n",
        "\n",
        "# Upload JSON file\n",
        "uploaded = files.upload()\n",
        "\n",
        "# Load the uploaded JSON file into a pandas DataFrame\n",
        "json_file = list(uploaded.keys())[0]  # Get the uploaded JSON file name\n",
        "df = pd.read_json(json_file)\n",
        "for col in df.select_dtypes(include=['datetimetz']).columns:\n",
        "    df[col] = df[col].dt.tz_localize(None)\n",
        "# Convert DataFrame to Excel\n",
        "excel_file = 'output.xlsx'  # The output Excel file name\n",
        "df.to_excel(excel_file, index=False, engine='openpyxl')\n",
        "\n",
        "print(f\"JSON data has been successfully converted to{excel_file}\")"
      ]
    },
    {
      "cell_type": "markdown",
      "source": [
        "Then we synthesized data with relevant attributes with necessary constraints"
      ],
      "metadata": {
        "id": "JCGw9-1vsLIG"
      }
    },
    {
      "cell_type": "code",
      "source": [
        "import pandas as pd\n",
        "import random\n",
        "\n",
        "# Define possible values for each attribute\n",
        "majors = [\"Computer Science\", \"Data Science\", \"Cybersecurity\", \"Finance\", \"Business Analytics\", \"Software Engineering\"]\n",
        "courses = {\n",
        "    \"Computer Science\": [\"Algorithms\", \"Data Structures\", \"Machine Learning\", \"Operating Systems\"],\n",
        "    \"Data Science\": [\"Statistics\", \"Data Visualization\", \"Python for Data Science\", \"Big Data\"],\n",
        "    \"Cybersecurity\": [\"Network Security\", \"Ethical Hacking\", \"Cryptography\", \"Cyber Law\"],\n",
        "    \"Finance\": [\"Financial Modeling\", \"Investment Analysis\", \"Accounting\", \"Risk Management\"],\n",
        "    \"Business Analytics\": [\"Data Analytics\", \"SQL\", \"Business Intelligence\", \"Predictive Analytics\"],\n",
        "    \"Software Engineering\": [\"Software Development\", \"Databases\", \"Cloud Computing\", \"DevOps\"]\n",
        "}\n",
        "skills = [\"Python\", \"SQL\", \"Machine Learning\", \"Network Security\", \"Financial Analysis\", \"Java\", \"C++\", \"Cloud Computing\", \"Data Analysis\", \"Risk Management\"]\n",
        "certifications = [\"AWS Certified\", \"CFA Level 1\", \"Certified Ethical Hacker\", \"Google Data Analytics\", \"PMP\"]\n",
        "industries = [\"Tech\", \"Finance\", \"Healthcare\", \"Education\", \"Government\"]\n",
        "extracurriculars = [\"Hackathons\", \"Student Government\", \"Research Assistant\", \"Coding Club\", \"Finance Club\"]\n",
        "job_roles = [\"Cybersecurity Intern\", \"Data Analyst Intern\", \"Financial Analyst Intern\", \"Software Engineering Intern\"]\n",
        "\n",
        "# Function to predict job role based on major and skills\n",
        "def predict_job_role(major, skill_set):\n",
        "    if \"Network Security\" in skill_set or \"Cryptography\" in skill_set:\n",
        "        return \"Cybersecurity Intern\"\n",
        "    elif \"Data Analysis\" in skill_set or \"Machine Learning\" in skill_set:\n",
        "        return \"Data Analyst Intern\"\n",
        "    elif \"Financial Analysis\" in skill_set or \"Risk Management\" in skill_set:\n",
        "        return \"Financial Analyst Intern\"\n",
        "    else:\n",
        "        return \"Software Engineering Intern\"\n",
        "\n",
        "# Generate dataset\n",
        "records = []\n",
        "for i in range(1000):\n",
        "    student_major = random.choice(majors)\n",
        "    student_courses = random.sample(courses[student_major], k=2)\n",
        "    student_skills = random.sample(skills, k=3)\n",
        "    student_certifications = random.sample(certifications, k=1)\n",
        "    student_experience = random.randint(0, 3)  # Years of experience\n",
        "    student_gpa = round(random.uniform(2.5, 4.0), 2)\n",
        "    student_industry = random.choice(industries)\n",
        "    student_extracurriculars = random.sample(extracurriculars, k=2)\n",
        "    predicted_role = predict_job_role(student_major, student_skills)\n",
        "\n",
        "    records.append([\n",
        "        i + 1, student_gpa, student_major, student_courses, student_skills, student_certifications,\n",
        "        student_experience, student_industry, student_extracurriculars, predicted_role\n",
        "    ])\n",
        "\n",
        "# Create DataFrame\n",
        "df = pd.DataFrame(records, columns=[\n",
        "    \"Student_ID\", \"GPA\", \"Major\", \"Relevant_Courses\", \"Skills\", \"Certifications\", \"Previous_Experience\",\n",
        "    \"Preferred_Industry\", \"Extracurriculars\", \"Predicted_Job_Role\"\n",
        "])\n",
        "\n",
        "# Save to CSV\n",
        "df.to_csv(\"student_job_predictions.csv\", index=False)\n",
        "\n",
        "print(\"Dataset generated and saved as student_job_predictions.csv\")"
      ],
      "metadata": {
        "id": "OPC2x63msyin"
      },
      "execution_count": null,
      "outputs": []
    }
  ]
}